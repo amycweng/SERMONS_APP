{
 "cells": [
  {
   "cell_type": "code",
   "execution_count": 1,
   "metadata": {},
   "outputs": [
    {
     "name": "stderr",
     "output_type": "stream",
     "text": [
      "/Users/amycweng/anaconda3/envs/sermons_app/lib/python3.11/site-packages/sentence_transformers/cross_encoder/CrossEncoder.py:11: TqdmWarning: IProgress not found. Please update jupyter and ipywidgets. See https://ipywidgets.readthedocs.io/en/stable/user_install.html\n",
      "  from tqdm.autonotebook import tqdm, trange\n"
     ]
    }
   ],
   "source": [
    "import chromadb\n",
    "from chromadb.config import Settings\n",
    "from sentence_transformers import SentenceTransformer\n",
    "import os \n",
    "import torch \n",
    "folder = os.getcwd()\n",
    "persist_directory=f'{folder}/static/data/VECTORDB'\n",
    "bi_encoder = SentenceTransformer(f\"{folder}/static/data/EEPS_emanjavacas-MacBERTh_2.0_2024-08-20_08-13-56\")\n",
    "client_settings = Settings(is_persistent= True, persist_directory= persist_directory, anonymized_telemetry=False)\n",
    "queryclient = chromadb.PersistentClient(path= persist_directory, settings= client_settings) "
   ]
  },
  {
   "cell_type": "code",
   "execution_count": 3,
   "metadata": {},
   "outputs": [
    {
     "data": {
      "text/plain": [
       "5862"
      ]
     },
     "execution_count": 3,
     "metadata": {},
     "output_type": "execute_result"
    }
   ],
   "source": [
    "import pandas as pd\n",
    "data_folder = \"/Users/amycweng/DH/SERMONS_APP/db/data\"\n",
    "\n",
    "sermons = pd.read_csv(f\"{data_folder}/sermons.csv\",header=None)\n",
    "tcpIDs = list(sermons[0])\n",
    "sermons = pd.read_csv(f\"{data_folder}/sermons_missing.csv\",header=None)\n",
    "tcpIDs.extend(list(sermons[0]))\n",
    "len(tcpIDs)"
   ]
  },
  {
   "cell_type": "code",
   "execution_count": 4,
   "metadata": {},
   "outputs": [
    {
     "name": "stdout",
     "output_type": "stream",
     "text": [
      "Geneva 31090\n",
      "Vulgate 35809\n",
      "Douay-Rheims 35811\n",
      "Tyndale 7954\n",
      "Wycliffe 9622\n",
      "KJV 36822\n"
     ]
    },
    {
     "data": {
      "text/plain": [
       "(['Geneva', 'Vulgate', 'Douay-Rheims', 'Tyndale', 'Wycliffe', 'KJV'], 157108)"
      ]
     },
     "execution_count": 4,
     "metadata": {},
     "output_type": "execute_result"
    }
   ],
   "source": [
    "import json\n",
    "bible = {}\n",
    "bible_ver = []\n",
    "for bname in ['Geneva', 'Vulgate', 'Douay-Rheims', 'Tyndale', 'Wycliffe', 'KJV']:\n",
    "    # if \".json\" not in bname: continue\n",
    "    bible_ver.append(bname.split(\".\")[0])\n",
    "    with open(f\"{data_folder}/Bibles/{bname}.json\",\"r\") as file:\n",
    "      b_dict = json.load(file)\n",
    "      print(bname, len(b_dict))\n",
    "    for vid, text in b_dict.items():\n",
    "      bible[f\"{vid} ({bname.split('.')[0]})\"] = text\n",
    "bible_ver, len(bible.keys())"
   ]
  },
  {
   "cell_type": "code",
   "execution_count": 5,
   "metadata": {},
   "outputs": [],
   "source": [
    "import re \n",
    "bible_ids = list(bible.keys())\n",
    "bible_verses = list(bible.values())\n",
    "btexts = []\n",
    "bids = []\n",
    "chroma_bids = []\n",
    "for key in bible_ids:\n",
    "  parts = re.split(r\"\\;|\\:|\\?|\\.\",bible[key])\n",
    "  parts = [p.strip(\" \") for p in parts if len(p.strip(\" \").split(\" \")) >= 5]\n",
    "\n",
    "  if len(parts) > 1:\n",
    "    for pidx, p in enumerate(parts):\n",
    "      btexts.append(p)\n",
    "      bids.append(key)\n",
    "      chroma_bids.append(f\"{key} - {pidx}\")"
   ]
  },
  {
   "cell_type": "code",
   "execution_count": 6,
   "metadata": {},
   "outputs": [
    {
     "data": {
      "text/plain": [
       "'BibleParts'"
      ]
     },
     "execution_count": 6,
     "metadata": {},
     "output_type": "execute_result"
    }
   ],
   "source": [
    "b_parts_collection = queryclient.get_or_create_collection(name=\"BibleParts\",metadata={\"hnsw:space\": \"cosine\"})\n",
    "b_embedding = torch.load(f\"{data_folder}/bible_parts.pt\",map_location=torch.device('cpu'))\n",
    "b_parts_collection.name"
   ]
  },
  {
   "cell_type": "code",
   "execution_count": 7,
   "metadata": {},
   "outputs": [
    {
     "name": "stderr",
     "output_type": "stream",
     "text": [
      "Batches: 100%|██████████| 1/1 [00:02<00:00,  2.02s/it]\n"
     ]
    },
    {
     "name": "stdout",
     "output_type": "stream",
     "text": [
      "Cast out the bondwoman and her son Galatians 4.30 (Douay-Rheims) 0.9138004779815674\n",
      "Cast out the bondwoman and her son Galatians 4.30 (KJV) 0.9138004779815674\n",
      "Cast out this bondwoman, and her son Genesis 21.10 (Douay-Rheims) 0.8937473297119141\n",
      "Wherefore she said unto Abraham, Cast out this bondwoman and her son Genesis 21.10 (KJV) 0.8222891092300415\n",
      "Wherefore she saide vnto Abraham, Cast out this bond woman and her sonne Genesis 21.10 (Geneva) 0.8087805509567261\n",
      "for the son of the bondwoman shall not be heir with my son Isaac Genesis 21.10 (Douay-Rheims) 0.7663462162017822\n",
      "for the son of the bondwoman shall not be heir with the son of the free woman Galatians 4.30 (Douay-Rheims) 0.7635434865951538\n",
      "for the son of the bondwoman shall not be heir with the son of the freewoman Galatians 4.30 (KJV) 0.758854866027832\n",
      "But he having put them all out, taketh the father and the mother of the damsel, and them that were with him, and entereth in where the damsel was lying Mark 5.40 (Douay-Rheims) 0.7565871477127075\n",
      "Put out the seruant and her sonne Galatians 4.30 (Geneva) 0.7546826601028442\n"
     ]
    }
   ],
   "source": [
    "ptexts = [\"the bond-woman and her son were cast out;\"]\n",
    "p_embedding = bi_encoder.encode(ptexts, batch_size=128, convert_to_tensor=True,show_progress_bar=True)\n",
    "from sentence_transformers.util import semantic_search\n",
    "hits = semantic_search(p_embedding,b_embedding,query_chunk_size=512)\n",
    "\n",
    "for pidx, hitlist in enumerate(hits):\n",
    "  for hit in hitlist:\n",
    "      bid = hit['corpus_id']\n",
    "      score = hit['score']\n",
    "      print(btexts[bid],bids[bid],score)"
   ]
  },
  {
   "cell_type": "code",
   "execution_count": 9,
   "metadata": {},
   "outputs": [
    {
     "name": "stderr",
     "output_type": "stream",
     "text": [
      "100%|██████████| 5/5 [06:39<00:00, 79.99s/it] \n"
     ]
    }
   ],
   "source": [
    "from tqdm import tqdm \n",
    "bible_batches = []\n",
    "batch_size = 40000\n",
    "for i in range(0, len(chroma_bids), batch_size):\n",
    "  bible_batches.append((chroma_bids[i: i + batch_size],b_embedding[i: i + batch_size],btexts[i:i+batch_size]))\n",
    "\n",
    "for batchids, bvectors,batchtexts in tqdm(bible_batches):\n",
    "  b_parts_collection.upsert(\n",
    "    embeddings=bvectors.tolist(),\n",
    "    ids=batchids,\n",
    "    documents=batchtexts\n",
    "  )"
   ]
  },
  {
   "cell_type": "code",
   "execution_count": 10,
   "metadata": {},
   "outputs": [
    {
     "data": {
      "text/plain": [
       "{'ids': [['Galatians 4.30 (Douay-Rheims) - 1',\n",
       "   'Galatians 4.30 (KJV) - 1',\n",
       "   'Genesis 21.10 (Douay-Rheims) - 0',\n",
       "   'Genesis 21.10 (KJV) - 0',\n",
       "   'Genesis 21.10 (Geneva) - 0',\n",
       "   'Genesis 21.10 (Douay-Rheims) - 1',\n",
       "   'Galatians 4.30 (Douay-Rheims) - 2',\n",
       "   'Galatians 4.30 (KJV) - 2',\n",
       "   'Mark 5.40 (Douay-Rheims) - 1',\n",
       "   'Galatians 4.30 (Geneva) - 1']],\n",
       " 'distances': [[0.08619952201843262,\n",
       "   0.08619952201843262,\n",
       "   0.10625314712524414,\n",
       "   0.17771100997924805,\n",
       "   0.19121956825256348,\n",
       "   0.23365366458892822,\n",
       "   0.23645663261413574,\n",
       "   0.24114561080932617,\n",
       "   0.24341309070587158,\n",
       "   0.24531781673431396]],\n",
       " 'metadatas': None,\n",
       " 'embeddings': None,\n",
       " 'documents': None,\n",
       " 'uris': None,\n",
       " 'data': None,\n",
       " 'included': ['distances']}"
      ]
     },
     "execution_count": 10,
     "metadata": {},
     "output_type": "execute_result"
    }
   ],
   "source": [
    "query = \"the bond-woman and her son were cast out;\"\n",
    "q_embedding = bi_encoder.encode([query])\n",
    "results = b_parts_collection.query(query_embeddings=q_embedding.tolist(), n_results= 10,include=[\"distances\"])\n",
    "results"
   ]
  },
  {
   "cell_type": "code",
   "execution_count": 15,
   "metadata": {},
   "outputs": [
    {
     "data": {
      "text/plain": [
       "'Bible'"
      ]
     },
     "execution_count": 15,
     "metadata": {},
     "output_type": "execute_result"
    }
   ],
   "source": [
    "bible_collection = queryclient.get_or_create_collection(name=\"Bible\",metadata={\"hnsw:space\": \"cosine\"})\n",
    "b_embedding = torch.load(f\"{data_folder}/bible_3.0.pt\",map_location=torch.device('cpu'))\n",
    "bible_collection.name"
   ]
  },
  {
   "cell_type": "code",
   "execution_count": 16,
   "metadata": {},
   "outputs": [
    {
     "name": "stderr",
     "output_type": "stream",
     "text": [
      "100%|██████████| 4/4 [05:20<00:00, 80.20s/it]\n"
     ]
    }
   ],
   "source": [
    "bible_batches = []\n",
    "batch_size = 40000\n",
    "for i in range(0, len(bible_ids), batch_size):\n",
    "  bible_batches.append((bible_ids[i: i + batch_size],b_embedding[i: i + batch_size],bible_verses[i:i+batch_size]))\n",
    "\n",
    "for batchids, bvectors,batchtexts in tqdm(bible_batches):\n",
    "  bible_collection.upsert(\n",
    "    embeddings=bvectors.tolist(),\n",
    "    ids=batchids,\n",
    "    documents=batchtexts\n",
    "  )"
   ]
  },
  {
   "cell_type": "code",
   "execution_count": 17,
   "metadata": {},
   "outputs": [
    {
     "data": {
      "text/plain": [
       "{'ids': [['Galatians 4.30 (KJV)',\n",
       "   'Galatians 4.30 (Douay-Rheims)',\n",
       "   'Genesis 21.10 (Douay-Rheims)',\n",
       "   'Galatians 4.30 (Geneva)',\n",
       "   'Genesis 21.10 (KJV)',\n",
       "   '1 Maccabees 2.11 (Douay-Rheims)',\n",
       "   'Ezekiel 16.45 (Douay-Rheims)',\n",
       "   'Isaiah 50.1 (Douay-Rheims)',\n",
       "   'Isaiah 50.1 (KJV)',\n",
       "   'Jeremiah 22.26 (KJV)']],\n",
       " 'distances': [[0.14670240879058838,\n",
       "   0.15016305446624756,\n",
       "   0.1623440384864807,\n",
       "   0.20470017194747925,\n",
       "   0.20858585834503174,\n",
       "   0.23436886072158813,\n",
       "   0.24835169315338135,\n",
       "   0.25248634815216064,\n",
       "   0.2549479007720947,\n",
       "   0.267315149307251]],\n",
       " 'metadatas': None,\n",
       " 'embeddings': None,\n",
       " 'documents': None,\n",
       " 'uris': None,\n",
       " 'data': None,\n",
       " 'included': ['distances']}"
      ]
     },
     "execution_count": 17,
     "metadata": {},
     "output_type": "execute_result"
    }
   ],
   "source": [
    "query = \"the bond-woman and her son were cast out;\"\n",
    "q_embedding = bi_encoder.encode([query])\n",
    "results = bible_collection.query(query_embeddings=q_embedding.tolist(), n_results= 10,include=[\"distances\"])\n",
    "results"
   ]
  },
  {
   "cell_type": "code",
   "execution_count": 12,
   "metadata": {},
   "outputs": [],
   "source": [
    "title_collection = queryclient.get_or_create_collection(name=\"Titles\",metadata={\"hnsw:space\": \"cosine\"})\n",
    "title_vectors = torch.load(f\"{data_folder}/titles.pt\",map_location=torch.device('cpu'))\n",
    "title_collection.upsert(\n",
    "  embeddings=title_vectors.tolist(),\n",
    "  ids=tcpIDs\n",
    ")"
   ]
  },
  {
   "cell_type": "code",
   "execution_count": 19,
   "metadata": {},
   "outputs": [],
   "source": [
    "import re, json\n",
    "from tqdm import tqdm \n",
    "import math, re\n",
    "import torch\n",
    "def add_to_db(era):\n",
    "  corpus = {} \n",
    "  output = f\"{era}_margin\"\n",
    "  folder = \"/Users/amycweng/DH/Early-Modern-Sermons/assets\"\n",
    "  for fp in tqdm(os.listdir(f\"{folder}/unique\")):\n",
    "      if re.search(era,fp):\n",
    "        if \"margin\" in output:\n",
    "          if not re.search(f'margin',fp): continue\n",
    "        with open(f\"{folder}/unique/{fp}\",\"r\") as file:\n",
    "          r = json.load(file)\n",
    "          for k, v in r.items():\n",
    "            if k not in corpus:\n",
    "              if len(v[0]) == 0: continue\n",
    "              corpus[k] = (v[0],v[1],None)\n",
    "            else:\n",
    "              for loc in v[1]:\n",
    "                corpus[k][1].append(loc)\n",
    "  rel_batches = []\n",
    "  idx_to_p = {}\n",
    "  batch_size = 40000\n",
    "  idx = 0\n",
    "  for i in range(0, len(corpus), batch_size):\n",
    "    batch = []\n",
    "    for p in list(corpus.keys())[i: i + batch_size]:\n",
    "      original = corpus[p][0][0]\n",
    "      idx_to_p[idx] = original\n",
    "      batch.append((idx,original,list(set([tuple(c) for c in corpus[p][1]])),corpus[p][2]))\n",
    "      idx += 1\n",
    "    rel_batches.append(batch)\n",
    "  print(sum([len(v) for v in rel_batches]))\n",
    "\n",
    "  chroma_batches = {}\n",
    "  batch_size = math.ceil(len(corpus)/200000) + 1\n",
    "  batch_num = 0\n",
    "  for i in range(0, len(rel_batches), batch_size):\n",
    "    print(f\"{output}_{batch_num}\")\n",
    "    collection = queryclient.get_or_create_collection(name=f\"{output}_{batch_num}\",metadata={\"hnsw:space\": \"cosine\"})\n",
    "    for j in range(i,i+batch_size):\n",
    "      if j >= len(rel_batches): break\n",
    "      chroma_batches[j] = batch_num\n",
    "    batch_num += 1\n",
    "  print(chroma_batches)\n",
    "\n",
    "  for bidx, batch in enumerate(rel_batches):\n",
    "    p_embedding = torch.load(f\"{data_folder}/embeddings/{output}_{bidx}\",map_location=torch.device('cpu'))\n",
    "    print(len(p_embedding))\n",
    "    cidx = chroma_batches[bidx]\n",
    "    collection = queryclient.get_collection(name=f\"{output}_{cidx}\")\n",
    "    print(collection)\n",
    "    docs = [\";\".join([\"_\".join(key) for key in b[2]]) for b in batch]\n",
    "    collection.upsert(\n",
    "      embeddings=p_embedding.tolist(),\n",
    "      ids=[str(b[0]) for b in batch],\n",
    "      documents= docs\n",
    "    )\n",
    "    print(f\"finished inserting to my Chroma collection\")"
   ]
  },
  {
   "cell_type": "code",
   "execution_count": 20,
   "metadata": {},
   "outputs": [
    {
     "name": "stderr",
     "output_type": "stream",
     "text": [
      "100%|██████████| 19/19 [00:00<00:00, 625.46it/s]\n"
     ]
    },
    {
     "name": "stdout",
     "output_type": "stream",
     "text": [
      "7066\n",
      "pre-Elizabethan_margin_0\n",
      "{0: 0}\n",
      "7066\n",
      "Collection(id=4c51f774-00bd-4e86-85cb-1409aecf521e, name=pre-Elizabethan_margin_0)\n",
      "finished inserting to my Chroma collection\n"
     ]
    }
   ],
   "source": [
    "add_to_db(\"pre-Elizabethan\") # preE, JII, "
   ]
  },
  {
   "cell_type": "code",
   "execution_count": 21,
   "metadata": {},
   "outputs": [
    {
     "name": "stderr",
     "output_type": "stream",
     "text": [
      "100%|██████████| 19/19 [00:01<00:00, 16.33it/s]\n"
     ]
    },
    {
     "name": "stdout",
     "output_type": "stream",
     "text": [
      "99283\n",
      "Elizabethan_margin_0\n",
      "Elizabethan_margin_1\n",
      "{0: 0, 1: 0, 2: 1}\n",
      "40000\n",
      "Collection(id=1782ba01-2afe-45a3-9ec5-96dad81e92db, name=Elizabethan_margin_0)\n",
      "finished inserting to my Chroma collection\n",
      "40000\n",
      "Collection(id=1782ba01-2afe-45a3-9ec5-96dad81e92db, name=Elizabethan_margin_0)\n",
      "finished inserting to my Chroma collection\n",
      "19283\n",
      "Collection(id=59f49960-8dd8-4c2e-8e92-5e2e2711dd46, name=Elizabethan_margin_1)\n",
      "finished inserting to my Chroma collection\n"
     ]
    }
   ],
   "source": [
    "add_to_db(\"Elizabethan\") # preE, JII, "
   ]
  },
  {
   "cell_type": "code",
   "execution_count": 22,
   "metadata": {},
   "outputs": [
    {
     "name": "stderr",
     "output_type": "stream",
     "text": [
      "100%|██████████| 19/19 [00:01<00:00, 18.11it/s]\n"
     ]
    },
    {
     "name": "stdout",
     "output_type": "stream",
     "text": [
      "109834\n",
      "Jacobean_margin_0\n",
      "Jacobean_margin_1\n",
      "{0: 0, 1: 0, 2: 1}\n",
      "40000\n",
      "Collection(id=ee298538-8394-482f-923a-7be4535800de, name=Jacobean_margin_0)\n",
      "finished inserting to my Chroma collection\n",
      "40000\n",
      "Collection(id=ee298538-8394-482f-923a-7be4535800de, name=Jacobean_margin_0)\n",
      "finished inserting to my Chroma collection\n",
      "29834\n",
      "Collection(id=4ce4a2de-ecfb-4458-ba1e-182cf1435a07, name=Jacobean_margin_1)\n",
      "finished inserting to my Chroma collection\n"
     ]
    }
   ],
   "source": [
    "add_to_db(\"Jacobean\") # preE, JII, "
   ]
  },
  {
   "cell_type": "code",
   "execution_count": 23,
   "metadata": {},
   "outputs": [
    {
     "name": "stderr",
     "output_type": "stream",
     "text": [
      "100%|██████████| 19/19 [00:00<00:00, 32.18it/s]\n"
     ]
    },
    {
     "name": "stdout",
     "output_type": "stream",
     "text": [
      "96211\n",
      "Carolinian_margin_0\n",
      "Carolinian_margin_1\n",
      "{0: 0, 1: 0, 2: 1}\n",
      "40000\n",
      "Collection(id=e04ab81a-92da-4426-8aab-4ec6dbd4559f, name=Carolinian_margin_0)\n",
      "finished inserting to my Chroma collection\n",
      "40000\n",
      "Collection(id=e04ab81a-92da-4426-8aab-4ec6dbd4559f, name=Carolinian_margin_0)\n",
      "finished inserting to my Chroma collection\n",
      "16211\n",
      "Collection(id=df966e79-9375-4dae-91f4-858634b5a3b7, name=Carolinian_margin_1)\n",
      "finished inserting to my Chroma collection\n"
     ]
    }
   ],
   "source": [
    "add_to_db(\"Carolinian\") # preE, JII, "
   ]
  },
  {
   "cell_type": "code",
   "execution_count": 24,
   "metadata": {},
   "outputs": [
    {
     "name": "stderr",
     "output_type": "stream",
     "text": [
      "100%|██████████| 19/19 [00:00<00:00, 46.06it/s]\n"
     ]
    },
    {
     "name": "stdout",
     "output_type": "stream",
     "text": [
      "50047\n",
      "CivilWar_margin_0\n",
      "{0: 0, 1: 0}\n",
      "40000\n",
      "Collection(id=ac41f3d5-4773-46d6-a802-d396ce8b6fef, name=CivilWar_margin_0)\n",
      "finished inserting to my Chroma collection\n",
      "10047\n",
      "Collection(id=ac41f3d5-4773-46d6-a802-d396ce8b6fef, name=CivilWar_margin_0)\n",
      "finished inserting to my Chroma collection\n"
     ]
    }
   ],
   "source": [
    "add_to_db(\"CivilWar\") # preE, JII, "
   ]
  },
  {
   "cell_type": "code",
   "execution_count": 25,
   "metadata": {},
   "outputs": [
    {
     "name": "stderr",
     "output_type": "stream",
     "text": [
      "100%|██████████| 19/19 [00:00<00:00, 37.77it/s]\n"
     ]
    },
    {
     "name": "stdout",
     "output_type": "stream",
     "text": [
      "60876\n",
      "Interregnum_margin_0\n",
      "{0: 0, 1: 0}\n",
      "40000\n",
      "Collection(id=fc19d3f8-6f2d-43b8-814d-f848dd6c0ca4, name=Interregnum_margin_0)\n",
      "finished inserting to my Chroma collection\n",
      "20876\n",
      "Collection(id=fc19d3f8-6f2d-43b8-814d-f848dd6c0ca4, name=Interregnum_margin_0)\n",
      "finished inserting to my Chroma collection\n"
     ]
    }
   ],
   "source": [
    "add_to_db(\"Interregnum\") # preE, JII, "
   ]
  },
  {
   "cell_type": "code",
   "execution_count": 26,
   "metadata": {},
   "outputs": [
    {
     "name": "stderr",
     "output_type": "stream",
     "text": [
      "100%|██████████| 19/19 [00:00<00:00, 498.77it/s]"
     ]
    },
    {
     "name": "stdout",
     "output_type": "stream",
     "text": [
      "11589\n",
      "JamesII_margin_0\n",
      "{0: 0}\n",
      "11589\n",
      "Collection(id=3a5d245b-d2c8-4b6f-8c22-45df5b883a8b, name=JamesII_margin_0)\n"
     ]
    },
    {
     "name": "stderr",
     "output_type": "stream",
     "text": [
      "\n"
     ]
    },
    {
     "name": "stdout",
     "output_type": "stream",
     "text": [
      "finished inserting to my Chroma collection\n"
     ]
    }
   ],
   "source": [
    "add_to_db(\"JamesII\") # preE, JII, "
   ]
  },
  {
   "cell_type": "code",
   "execution_count": 27,
   "metadata": {},
   "outputs": [
    {
     "name": "stderr",
     "output_type": "stream",
     "text": [
      "100%|██████████| 19/19 [00:00<00:00, 68.82it/s]\n"
     ]
    },
    {
     "name": "stdout",
     "output_type": "stream",
     "text": [
      "25198\n",
      "WilliamAndMary_margin_0\n",
      "{0: 0}\n",
      "25198\n",
      "Collection(id=a6d44d66-c1fe-46c3-85a5-1e21dba10484, name=WilliamAndMary_margin_0)\n",
      "finished inserting to my Chroma collection\n"
     ]
    }
   ],
   "source": [
    "add_to_db(\"WilliamAndMary\") # preE, JII, "
   ]
  },
  {
   "cell_type": "code",
   "execution_count": 28,
   "metadata": {},
   "outputs": [
    {
     "name": "stderr",
     "output_type": "stream",
     "text": [
      "100%|██████████| 19/19 [00:01<00:00, 14.58it/s]\n"
     ]
    },
    {
     "name": "stdout",
     "output_type": "stream",
     "text": [
      "90319\n",
      "CharlesII_margin_0\n",
      "CharlesII_margin_1\n",
      "{0: 0, 1: 0, 2: 1}\n",
      "40000\n",
      "Collection(id=4e2d9eef-1e06-4d2a-a982-0141444d228e, name=CharlesII_margin_0)\n",
      "finished inserting to my Chroma collection\n",
      "40000\n",
      "Collection(id=4e2d9eef-1e06-4d2a-a982-0141444d228e, name=CharlesII_margin_0)\n",
      "finished inserting to my Chroma collection\n",
      "10319\n",
      "Collection(id=0719c9d8-2d0a-4236-9786-95f3260483f7, name=CharlesII_margin_1)\n",
      "finished inserting to my Chroma collection\n"
     ]
    }
   ],
   "source": [
    "add_to_db(\"CharlesII\") # preE, JII, "
   ]
  },
  {
   "cell_type": "code",
   "execution_count": 29,
   "metadata": {},
   "outputs": [
    {
     "name": "stdout",
     "output_type": "stream",
     "text": [
      "BibleParts 161935\n",
      "CharlesII_margin_1 10319\n",
      "Titles 5862\n",
      "Elizabethan_margin_0 80000\n",
      "JamesII_margin_0 11589\n",
      "pre-Elizabethan_margin_0 7066\n",
      "Jacobean_margin_1 29834\n",
      "CharlesII_margin_0 80000\n",
      "Elizabethan_margin_1 19283\n",
      "WilliamAndMary_margin_0 25198\n",
      "CivilWar_margin_0 50047\n",
      "Carolinian_margin_1 16211\n",
      "Carolinian_margin_0 80000\n",
      "Bible 157108\n",
      "Jacobean_margin_0 80000\n",
      "Interregnum_margin_0 60876\n"
     ]
    }
   ],
   "source": [
    "collections = queryclient.list_collections()\n",
    "\n",
    "# Print the collection names\n",
    "for collection in collections:\n",
    "    print(collection.name,len(collection.get()['ids']))"
   ]
  },
  {
   "cell_type": "code",
   "execution_count": 13,
   "metadata": {},
   "outputs": [],
   "source": [
    "collection = queryclient.get_collection(name=\"Bible\")\n",
    "k=10\n",
    "query = \"Borne again of immortall seed.\"\n",
    "q_embedding = bi_encoder.encode([query])\n",
    "results = collection.query(query_embeddings=q_embedding.tolist(), n_results= k,include=[\"distances\"])"
   ]
  }
 ],
 "metadata": {
  "kernelspec": {
   "display_name": "sermons_app",
   "language": "python",
   "name": "python3"
  },
  "language_info": {
   "codemirror_mode": {
    "name": "ipython",
    "version": 3
   },
   "file_extension": ".py",
   "mimetype": "text/x-python",
   "name": "python",
   "nbconvert_exporter": "python",
   "pygments_lexer": "ipython3",
   "version": "3.11.9"
  }
 },
 "nbformat": 4,
 "nbformat_minor": 2
}
