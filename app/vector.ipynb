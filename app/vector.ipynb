{
 "cells": [
  {
   "cell_type": "code",
   "execution_count": 1,
   "metadata": {},
   "outputs": [],
   "source": [
    "from vectordb import *"
   ]
  },
  {
   "cell_type": "code",
   "execution_count": 2,
   "metadata": {},
   "outputs": [],
   "source": [
    "item = Vector_DB()"
   ]
  },
  {
   "cell_type": "code",
   "execution_count": 3,
   "metadata": {},
   "outputs": [
    {
     "data": {
      "text/plain": [
       "['if the light that be in the be darkness how dark shall the darkness be',\n",
       " 'than the blackness of the night time be dark',\n",
       " 'for darkness have blind his eye',\n",
       " 'so in the night as in the light  , ',\n",
       " 'darkness and death',\n",
       " 'it dark all the face of you heaven',\n",
       " 'what a light be in it',\n",
       " 'but rather horrible and palpable darkness',\n",
       " 'that the dark the night be , the clear do the star shine',\n",
       " 'that the dark the night be , the clear do the star shine']"
      ]
     },
     "execution_count": 3,
     "metadata": {},
     "output_type": "execute_result"
    }
   ],
   "source": [
    "item.search('pre-Elizabethan','through a glass dark','text')"
   ]
  }
 ],
 "metadata": {
  "kernelspec": {
   "display_name": "sermons_app",
   "language": "python",
   "name": "python3"
  },
  "language_info": {
   "codemirror_mode": {
    "name": "ipython",
    "version": 3
   },
   "file_extension": ".py",
   "mimetype": "text/x-python",
   "name": "python",
   "nbconvert_exporter": "python",
   "pygments_lexer": "ipython3",
   "version": "3.11.9"
  }
 },
 "nbformat": 4,
 "nbformat_minor": 2
}
